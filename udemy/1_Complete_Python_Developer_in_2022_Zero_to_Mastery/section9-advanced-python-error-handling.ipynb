{
 "cells": [
  {
   "cell_type": "markdown",
   "metadata": {},
   "source": [
    "# 158. Errors Handling\n"
   ]
  },
  {
   "cell_type": "code",
   "execution_count": 2,
   "metadata": {},
   "outputs": [
    {
     "name": "stdout",
     "output_type": "stream",
     "text": [
      "please enter age higher than 0\n",
      "please enter age higher than 0\n",
      "please enter age higher than 0\n",
      "thank you!\n"
     ]
    }
   ],
   "source": [
    "while True:\n",
    "    try:\n",
    "        age = int(input('What is your age? : '))\n",
    "        10 / age\n",
    "    except ValueError:\n",
    "        print('please enter a number')\n",
    "    except ZeroDivisionError:\n",
    "        print('please enter age higher than 0')\n",
    "    else:\n",
    "        print('thank you!')\n",
    "        break\n"
   ]
  },
  {
   "cell_type": "markdown",
   "metadata": {},
   "source": [
    "# 158. Errors Handling 2\n"
   ]
  },
  {
   "cell_type": "code",
   "execution_count": 13,
   "metadata": {},
   "outputs": [
    {
     "name": "stdout",
     "output_type": "stream",
     "text": [
      "unsupported operand type(s) for /: 'str' and 'int' \n",
      "please try again\n",
      "None\n",
      "division by zero \n",
      "please try again\n",
      "None\n"
     ]
    }
   ],
   "source": [
    "def sum(num1, num2):\n",
    "    try:\n",
    "        return num1 / num2\n",
    "    except (TypeError, ZeroDivisionError) as err:\n",
    "        print(err, '\\nplease try again')\n",
    "\n",
    "\n",
    "print(sum('1', 2))\n",
    "print(sum(1, 0))\n"
   ]
  },
  {
   "cell_type": "markdown",
   "metadata": {},
   "source": [
    "# 160. Exercises: Error Handling\n"
   ]
  },
  {
   "cell_type": "code",
   "execution_count": 2,
   "metadata": {},
   "outputs": [
    {
     "name": "stdout",
     "output_type": "stream",
     "text": [
      "thank you!\n",
      "okay, I am finally done\n"
     ]
    }
   ],
   "source": [
    "while True:\n",
    "    try:\n",
    "        age = int(input('What is your age? : '))\n",
    "        10 / age\n",
    "    except ValueError:\n",
    "        print('please enter a number')\n",
    "        continue\n",
    "    except ZeroDivisionError:\n",
    "        print('please enter age higher than 0')\n",
    "        break\n",
    "    else:\n",
    "        print('thank you!')\n",
    "    finally:\n",
    "        print('okay, I am finally done')\n",
    "    print('can you hear me?')"
   ]
  },
  {
   "cell_type": "markdown",
   "metadata": {},
   "source": [
    "# 161. Error Handling 3"
   ]
  },
  {
   "cell_type": "code",
   "execution_count": 3,
   "metadata": {},
   "outputs": [
    {
     "name": "stdout",
     "output_type": "stream",
     "text": [
      "okay, I am finally done\n"
     ]
    },
    {
     "ename": "ValueError",
     "evalue": "hey cut it out",
     "output_type": "error",
     "traceback": [
      "\u001b[1;31m---------------------------------------------------------------------------\u001b[0m",
      "\u001b[1;31mValueError\u001b[0m                                Traceback (most recent call last)",
      "\u001b[1;32md:\\Data_Engineer\\gitlearn\\udemy\\1_Complete_Python_Developer_in_2022_Zero_to_Mastery\\section9-advanced-python-error-handling.ipynb Cell 8'\u001b[0m in \u001b[0;36m<cell line: 1>\u001b[1;34m()\u001b[0m\n\u001b[0;32m      <a href='vscode-notebook-cell:/d%3A/Data_Engineer/gitlearn/udemy/1_Complete_Python_Developer_in_2022_Zero_to_Mastery/section9-advanced-python-error-handling.ipynb#ch0000006?line=2'>3</a>\u001b[0m     age \u001b[39m=\u001b[39m \u001b[39mint\u001b[39m(\u001b[39minput\u001b[39m(\u001b[39m'\u001b[39m\u001b[39mWhat is your age? : \u001b[39m\u001b[39m'\u001b[39m))\n\u001b[0;32m      <a href='vscode-notebook-cell:/d%3A/Data_Engineer/gitlearn/udemy/1_Complete_Python_Developer_in_2022_Zero_to_Mastery/section9-advanced-python-error-handling.ipynb#ch0000006?line=3'>4</a>\u001b[0m     \u001b[39m10\u001b[39m \u001b[39m/\u001b[39m age\n\u001b[1;32m----> <a href='vscode-notebook-cell:/d%3A/Data_Engineer/gitlearn/udemy/1_Complete_Python_Developer_in_2022_Zero_to_Mastery/section9-advanced-python-error-handling.ipynb#ch0000006?line=4'>5</a>\u001b[0m     \u001b[39mraise\u001b[39;00m \u001b[39mValueError\u001b[39;00m(\u001b[39m'\u001b[39m\u001b[39mhey cut it out\u001b[39m\u001b[39m'\u001b[39m)\n\u001b[0;32m      <a href='vscode-notebook-cell:/d%3A/Data_Engineer/gitlearn/udemy/1_Complete_Python_Developer_in_2022_Zero_to_Mastery/section9-advanced-python-error-handling.ipynb#ch0000006?line=5'>6</a>\u001b[0m \u001b[39mexcept\u001b[39;00m \u001b[39mZeroDivisionError\u001b[39;00m:\n\u001b[0;32m      <a href='vscode-notebook-cell:/d%3A/Data_Engineer/gitlearn/udemy/1_Complete_Python_Developer_in_2022_Zero_to_Mastery/section9-advanced-python-error-handling.ipynb#ch0000006?line=6'>7</a>\u001b[0m     \u001b[39mprint\u001b[39m(\u001b[39m'\u001b[39m\u001b[39mplease enter age higher than 0\u001b[39m\u001b[39m'\u001b[39m)\n",
      "\u001b[1;31mValueError\u001b[0m: hey cut it out"
     ]
    }
   ],
   "source": [
    "while True:\n",
    "    try:\n",
    "        age = int(input('What is your age? : '))\n",
    "        10 / age\n",
    "        raise ValueError('hey cut it out')\n",
    "    except ZeroDivisionError:\n",
    "        print('please enter age higher than 0')\n",
    "        break\n",
    "    else:\n",
    "        print('thank you!')\n",
    "    finally:\n",
    "        print('okay, I am finally done')\n",
    "    print('can you hear me?')"
   ]
  },
  {
   "cell_type": "code",
   "execution_count": null,
   "metadata": {},
   "outputs": [],
   "source": []
  }
 ],
 "metadata": {
  "interpreter": {
   "hash": "2664c4f0d1a8eabb1f6d1de34857e7c054ec1b37f0b8826c1eeda77bda4b9b3a"
  },
  "kernelspec": {
   "display_name": "Python 3.10.2 ('.venv': venv)",
   "language": "python",
   "name": "python3"
  },
  "language_info": {
   "codemirror_mode": {
    "name": "ipython",
    "version": 3
   },
   "file_extension": ".py",
   "mimetype": "text/x-python",
   "name": "python",
   "nbconvert_exporter": "python",
   "pygments_lexer": "ipython3",
   "version": "3.10.2"
  },
  "orig_nbformat": 4
 },
 "nbformat": 4,
 "nbformat_minor": 2
}

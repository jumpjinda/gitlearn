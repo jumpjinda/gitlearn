{
 "cells": [
  {
   "cell_type": "code",
   "execution_count": 15,
   "metadata": {},
   "outputs": [
    {
     "name": "stdout",
     "output_type": "stream",
     "text": [
      "<_io.TextIOWrapper name='section13-Test.txt' mode='r' encoding='cp874'>\n",
      "['hi my name is James\\n', 'gg\\n', '32']\n"
     ]
    }
   ],
   "source": [
    "my_file = open('section13-Test.txt')\n",
    "\n",
    "print(my_file)\n",
    "# print(my_file.read())\n",
    "# print(my_file.read()) # open can read file at once\n",
    "# print(my_file.read())\n",
    "# print(my_file.readline())\n",
    "# print(my_file.readline()) # cursor keep moving\n",
    "# print(my_file.readline())\n",
    "print(my_file.readlines())\n",
    "\n",
    "my_file.close()"
   ]
  },
  {
   "cell_type": "markdown",
   "metadata": {},
   "source": [
    "# 185. Read, Write, Append"
   ]
  },
  {
   "cell_type": "code",
   "execution_count": 16,
   "metadata": {},
   "outputs": [
    {
     "name": "stdout",
     "output_type": "stream",
     "text": [
      "['hi my name is James\\n', 'gg\\n', '32']\n"
     ]
    }
   ],
   "source": [
    "with open('section13-Test.txt') as my_file: # no need to worry about closing the file, auto close\n",
    "    print(my_file.readlines())"
   ]
  },
  {
   "cell_type": "markdown",
   "metadata": {},
   "source": [
    "mode\n",
    "- r+ = write file replace old text start at the begining of file\n",
    "- a = append, append text to the end\n",
    "- w = delete entrie text and write new text, and 'w' can create new file if it doesn't exist"
   ]
  },
  {
   "cell_type": "code",
   "execution_count": 17,
   "metadata": {},
   "outputs": [
    {
     "ename": "UnsupportedOperation",
     "evalue": "not readable",
     "output_type": "error",
     "traceback": [
      "\u001b[1;31m---------------------------------------------------------------------------\u001b[0m",
      "\u001b[1;31mUnsupportedOperation\u001b[0m                      Traceback (most recent call last)",
      "\u001b[1;32md:\\Data_Engineer\\gitlearn\\udemy\\1_Complete_Python_Developer_in_2022_Zero_to_Mastery\\section13-File-Input-Output.ipynb Cell 4'\u001b[0m in \u001b[0;36m<cell line: 1>\u001b[1;34m()\u001b[0m\n\u001b[0;32m      <a href='vscode-notebook-cell:/d%3A/Data_Engineer/gitlearn/udemy/1_Complete_Python_Developer_in_2022_Zero_to_Mastery/section13-File-Input-Output.ipynb#ch0000004?line=0'>1</a>\u001b[0m \u001b[39mwith\u001b[39;00m \u001b[39mopen\u001b[39m(\u001b[39m'\u001b[39m\u001b[39msection13-Test.txt\u001b[39m\u001b[39m'\u001b[39m, mode\u001b[39m=\u001b[39m\u001b[39m'\u001b[39m\u001b[39mw\u001b[39m\u001b[39m'\u001b[39m) \u001b[39mas\u001b[39;00m my_file:\n\u001b[1;32m----> <a href='vscode-notebook-cell:/d%3A/Data_Engineer/gitlearn/udemy/1_Complete_Python_Developer_in_2022_Zero_to_Mastery/section13-File-Input-Output.ipynb#ch0000004?line=1'>2</a>\u001b[0m     \u001b[39mprint\u001b[39m(my_file\u001b[39m.\u001b[39;49mreadlines())\n",
      "\u001b[1;31mUnsupportedOperation\u001b[0m: not readable"
     ]
    }
   ],
   "source": [
    "with open('section13-Test.txt', mode='w') as my_file: # only write a file\n",
    "    print(my_file.readlines())"
   ]
  },
  {
   "cell_type": "code",
   "execution_count": 18,
   "metadata": {},
   "outputs": [
    {
     "name": "stdout",
     "output_type": "stream",
     "text": [
      "2\n"
     ]
    }
   ],
   "source": [
    "with open('section13-Test2.txt', mode='w') as my_file:\n",
    "    text = my_file.write(':(')\n",
    "    print(text)"
   ]
  },
  {
   "cell_type": "markdown",
   "metadata": {},
   "source": [
    "# 187. File IO Errors"
   ]
  },
  {
   "cell_type": "code",
   "execution_count": 27,
   "metadata": {},
   "outputs": [
    {
     "name": "stdout",
     "output_type": "stream",
     "text": [
      "hi James\n"
     ]
    }
   ],
   "source": [
    "try:\n",
    "    with open('section13-Test.txt', mode='r') as f:\n",
    "        print(f.read())\n",
    "except FileNotFoundError as e:\n",
    "    print(e)\n",
    "except IOError as e:\n",
    "    print(e)"
   ]
  }
 ],
 "metadata": {
  "interpreter": {
   "hash": "894f88492033644e5abf5338676b1e90f2a606908451d0f5b224cf00927e593e"
  },
  "kernelspec": {
   "display_name": "Python 3.10.2 ('.venv': venv)",
   "language": "python",
   "name": "python3"
  },
  "language_info": {
   "codemirror_mode": {
    "name": "ipython",
    "version": 3
   },
   "file_extension": ".py",
   "mimetype": "text/x-python",
   "name": "python",
   "nbconvert_exporter": "python",
   "pygments_lexer": "ipython3",
   "version": "3.10.2"
  },
  "orig_nbformat": 4
 },
 "nbformat": 4,
 "nbformat_minor": 2
}

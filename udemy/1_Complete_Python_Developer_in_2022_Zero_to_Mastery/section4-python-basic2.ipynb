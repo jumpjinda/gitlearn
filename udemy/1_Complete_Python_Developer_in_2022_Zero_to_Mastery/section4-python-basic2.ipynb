{
 "cells": [
  {
   "cell_type": "markdown",
   "metadata": {},
   "source": [
    "# 65. Logical Operator"
   ]
  },
  {
   "cell_type": "code",
   "execution_count": 3,
   "metadata": {},
   "outputs": [
    {
     "name": "stdout",
     "output_type": "stream",
     "text": [
      "False\n",
      "True\n",
      "False\n"
     ]
    }
   ],
   "source": [
    "print(not(True))\n",
    "print(not(False))\n",
    "print(not(1 == 1))"
   ]
  },
  {
   "cell_type": "markdown",
   "metadata": {},
   "source": [
    "# 68. For Loops"
   ]
  },
  {
   "cell_type": "code",
   "execution_count": 6,
   "metadata": {},
   "outputs": [
    {
     "name": "stdout",
     "output_type": "stream",
     "text": [
      "1 a\n",
      "1 b\n",
      "1 c\n",
      "2 a\n",
      "2 b\n",
      "2 c\n",
      "3 a\n",
      "3 b\n",
      "3 c\n"
     ]
    }
   ],
   "source": [
    "for item in (1, 2, 3):\n",
    "    for char in ['a', 'b', 'c']:\n",
    "        print(item, char)"
   ]
  },
  {
   "cell_type": "markdown",
   "metadata": {},
   "source": [
    "# 69. Iterables"
   ]
  },
  {
   "cell_type": "code",
   "execution_count": 18,
   "metadata": {},
   "outputs": [
    {
     "name": "stdout",
     "output_type": "stream",
     "text": [
      "('name', 'Golem')\n",
      "('age', 5000)\n",
      "('can_swim', False)\n",
      "name\n",
      "age\n",
      "can_swim\n",
      "Golem\n",
      "5000\n",
      "False\n",
      "name Golem\n",
      "age 5000\n",
      "can_swim False\n"
     ]
    }
   ],
   "source": [
    "# iterables = list, dictionary, tuple, set, string\n",
    "# iterated -> one by one check each item in collection.\n",
    "\n",
    "user = {\n",
    "    'name': 'Golem',\n",
    "    'age': 5000,\n",
    "    'can_swim': False\n",
    "}\n",
    "\n",
    "for item in user.items():\n",
    "    print(item)\n",
    "\n",
    "for item in user.keys():\n",
    "    print(item)\n",
    "\n",
    "for item in user.values():\n",
    "    print(item)\n",
    "\n",
    "for key, value in user.items():\n",
    "    print(key, value)"
   ]
  },
  {
   "cell_type": "markdown",
   "metadata": {},
   "source": [
    "# 71. range()"
   ]
  },
  {
   "cell_type": "code",
   "execution_count": 19,
   "metadata": {},
   "outputs": [
    {
     "name": "stdout",
     "output_type": "stream",
     "text": [
      "1\n",
      "3\n",
      "5\n",
      "7\n",
      "9\n",
      "11\n",
      "13\n",
      "15\n",
      "17\n",
      "19\n"
     ]
    }
   ],
   "source": [
    "for i in range(1, 21, 2): # step over 2\n",
    "    print(i)"
   ]
  },
  {
   "cell_type": "code",
   "execution_count": 20,
   "metadata": {},
   "outputs": [
    {
     "name": "stdout",
     "output_type": "stream",
     "text": [
      "[0, 1, 2, 3, 4, 5, 6, 7, 8, 9]\n",
      "[0, 1, 2, 3, 4, 5, 6, 7, 8, 9]\n"
     ]
    }
   ],
   "source": [
    "# fast create list\n",
    "for i in range(2):\n",
    "    print(list(range(10)))"
   ]
  },
  {
   "cell_type": "markdown",
   "metadata": {},
   "source": [
    "# 72. enumerate()"
   ]
  },
  {
   "cell_type": "code",
   "execution_count": 22,
   "metadata": {},
   "outputs": [
    {
     "name": "stdout",
     "output_type": "stream",
     "text": [
      "0 H\n",
      "1 e\n",
      "2 l\n",
      "3 l\n",
      "4 o\n"
     ]
    }
   ],
   "source": [
    "for i, char in enumerate('Hello'): # enumerate() return index and value\n",
    "    print(i, char)"
   ]
  },
  {
   "cell_type": "code",
   "execution_count": 24,
   "metadata": {},
   "outputs": [
    {
     "name": "stdout",
     "output_type": "stream",
     "text": [
      "0 0\n",
      "1 1\n",
      "2 2\n",
      "3 3\n",
      "4 4\n",
      "5 5\n",
      "index of 5 is: 5\n",
      "6 6\n",
      "7 7\n",
      "8 8\n",
      "9 9\n"
     ]
    }
   ],
   "source": [
    "for i, number in enumerate(list(range(10))):\n",
    "    print(i, number)\n",
    "    if number == 5:\n",
    "        print(f'index of 5 is: {i}')"
   ]
  },
  {
   "cell_type": "markdown",
   "metadata": {},
   "source": [
    "# 73. While Loops"
   ]
  },
  {
   "cell_type": "code",
   "execution_count": 26,
   "metadata": {},
   "outputs": [
    {
     "name": "stdout",
     "output_type": "stream",
     "text": [
      "0\n"
     ]
    }
   ],
   "source": [
    "i = 0\n",
    "while i < 50:\n",
    "    print(i)\n",
    "    i += 1\n",
    "else:\n",
    "    print('done with all the work')"
   ]
  },
  {
   "cell_type": "code",
   "execution_count": 27,
   "metadata": {},
   "outputs": [],
   "source": [
    "# while True:\n",
    "#     respone = input('say simething: ')\n",
    "#     if respone == 'bye':\n",
    "#         break"
   ]
  },
  {
   "cell_type": "markdown",
   "metadata": {},
   "source": [
    "# 78. Exercise: Find Duplicates"
   ]
  },
  {
   "cell_type": "code",
   "execution_count": 3,
   "metadata": {},
   "outputs": [
    {
     "name": "stdout",
     "output_type": "stream",
     "text": [
      "['b', 'n']\n"
     ]
    }
   ],
   "source": [
    "some_list = ['a', 'b', 'c', 'b', 'd', 'm', 'n', 'n']\n",
    "\n",
    "duplicates = []\n",
    "for char in some_list:\n",
    "    if some_list.count(char) > 1: # we have b,b and n,n here\n",
    "        if char not in duplicates: # add first b and check, oh b is in duplicates now dont add it, same as n\n",
    "            duplicates.append(char)\n",
    "\n",
    "print(duplicates)"
   ]
  },
  {
   "cell_type": "markdown",
   "metadata": {},
   "source": [
    "# 79. Functions"
   ]
  },
  {
   "cell_type": "markdown",
   "metadata": {},
   "source": [
    "# 80. Parameters and Arguments\n",
    "- Parameters are things has determine what user can put it into function\n",
    "- arguments are used as the actual values we provide function (something we pass into parameters)"
   ]
  },
  {
   "cell_type": "code",
   "execution_count": 6,
   "metadata": {},
   "outputs": [
    {
     "name": "stdout",
     "output_type": "stream",
     "text": [
      "Hello Jump 18\n",
      "Hello Deer 32\n",
      "Hello Funk 30\n"
     ]
    }
   ],
   "source": [
    "#            |parameters|   \n",
    "def say_hello(name, age):\n",
    "    print(f'Hello {name} {age}')\n",
    "\n",
    "#         |arguments|\n",
    "say_hello('Jump', 18)\n",
    "say_hello('Deer', 32)\n",
    "say_hello(age=30, name='Funk')"
   ]
  },
  {
   "cell_type": "code",
   "execution_count": 11,
   "metadata": {},
   "outputs": [
    {
     "name": "stdout",
     "output_type": "stream",
     "text": [
      "Hello Tanawat, you are 32 years old.\n",
      "Hello Varisa, you are 50 years old.\n",
      "Hello Nattawat, you are 100 years old.\n",
      "Hello Funk, you are 32 years old.\n"
     ]
    }
   ],
   "source": [
    "# Default Parameters\n",
    "def test(name='Tanawat', age=32):\n",
    "    print(f'Hello {name}, you are {age} years old.')\n",
    "\n",
    "test()\n",
    "test('Varisa', 50)\n",
    "test(age=100, name='Nattawat')\n",
    "test('Funk')"
   ]
  },
  {
   "cell_type": "code",
   "execution_count": 17,
   "metadata": {},
   "outputs": [
    {
     "name": "stdout",
     "output_type": "stream",
     "text": [
      "3\n",
      "25\n",
      "30\n"
     ]
    }
   ],
   "source": [
    "# Return\n",
    "def testsum(n1, n2):\n",
    "    return n1 + n2\n",
    "\n",
    "\n",
    "total = testsum(10, 5)\n",
    "print(testsum(1, 2))\n",
    "print(testsum(10, total))\n",
    "\n",
    "\n",
    "def testsum2(num1, num2):\n",
    "    def another_func(n1, n2):\n",
    "        return n1 + n2 # return to another_func\n",
    "    return another_func(num1, num2) # return to testsum2\n",
    "\n",
    "\n",
    "total = testsum2(10, 20)\n",
    "print(total)"
   ]
  },
  {
   "cell_type": "markdown",
   "metadata": {},
   "source": [
    "# 84. Methods vs Functions\n",
    "- Methods is build-in functions it's owned by something, access by . after object, can't call itself\n",
    "- Functions is things we can define and can call itself"
   ]
  },
  {
   "cell_type": "markdown",
   "metadata": {},
   "source": [
    "# 85. Docstrings"
   ]
  },
  {
   "cell_type": "code",
   "execution_count": 22,
   "metadata": {},
   "outputs": [
    {
     "name": "stdout",
     "output_type": "stream",
     "text": [
      "Help on function test2 in module __main__:\n",
      "\n",
      "test2(a)\n",
      "    Info: this function print param a\n",
      "\n"
     ]
    }
   ],
   "source": [
    "def test2(a):\n",
    "    '''\n",
    "    Info: this function print param a\n",
    "    '''\n",
    "    print(a)\n",
    "\n",
    "help(test2)"
   ]
  },
  {
   "cell_type": "markdown",
   "metadata": {},
   "source": [
    "# 86. Clean Code"
   ]
  },
  {
   "cell_type": "code",
   "execution_count": 24,
   "metadata": {},
   "outputs": [
    {
     "name": "stdout",
     "output_type": "stream",
     "text": [
      "True\n",
      "False\n"
     ]
    }
   ],
   "source": [
    "def is_even(num):\n",
    "    return num % 2 == 0\n",
    "\n",
    "print(is_even(50))\n",
    "print(is_even(51))"
   ]
  },
  {
   "cell_type": "markdown",
   "metadata": {},
   "source": [
    "# 87. *args and **kwargs"
   ]
  },
  {
   "cell_type": "code",
   "execution_count": 25,
   "metadata": {},
   "outputs": [
    {
     "ename": "TypeError",
     "evalue": "super_func() takes 1 positional argument but 5 were given",
     "output_type": "error",
     "traceback": [
      "\u001b[1;31m---------------------------------------------------------------------------\u001b[0m",
      "\u001b[1;31mTypeError\u001b[0m                                 Traceback (most recent call last)",
      "\u001b[1;32md:\\Data_Engineer\\Learn\\Udemy\\1_Complete_Python_Developer_in_2022_Zero_to_Mastery\\section4-python-basic2.ipynb Cell 30'\u001b[0m in \u001b[0;36m<cell line: 4>\u001b[1;34m()\u001b[0m\n\u001b[0;32m      <a href='vscode-notebook-cell:/d%3A/Data_Engineer/Learn/Udemy/1_Complete_Python_Developer_in_2022_Zero_to_Mastery/section4-python-basic2.ipynb#ch0000033?line=0'>1</a>\u001b[0m \u001b[39mdef\u001b[39;00m \u001b[39msuper_func\u001b[39m(args):\n\u001b[0;32m      <a href='vscode-notebook-cell:/d%3A/Data_Engineer/Learn/Udemy/1_Complete_Python_Developer_in_2022_Zero_to_Mastery/section4-python-basic2.ipynb#ch0000033?line=1'>2</a>\u001b[0m     \u001b[39mreturn\u001b[39;00m \u001b[39msum\u001b[39m(args)\n\u001b[1;32m----> <a href='vscode-notebook-cell:/d%3A/Data_Engineer/Learn/Udemy/1_Complete_Python_Developer_in_2022_Zero_to_Mastery/section4-python-basic2.ipynb#ch0000033?line=3'>4</a>\u001b[0m \u001b[39mprint\u001b[39m(super_func(\u001b[39m1\u001b[39;49m, \u001b[39m2\u001b[39;49m, \u001b[39m3\u001b[39;49m, \u001b[39m4\u001b[39;49m, \u001b[39m5\u001b[39;49m))\n",
      "\u001b[1;31mTypeError\u001b[0m: super_func() takes 1 positional argument but 5 were given"
     ]
    }
   ],
   "source": [
    "def super_func(args):\n",
    "    return sum(args)\n",
    "\n",
    "print(super_func(1, 2, 3, 4, 5))"
   ]
  },
  {
   "cell_type": "code",
   "execution_count": 27,
   "metadata": {},
   "outputs": [
    {
     "name": "stdout",
     "output_type": "stream",
     "text": [
      "(1, 2, 3, 4, 5)\n",
      "15\n"
     ]
    }
   ],
   "source": [
    "def super_func(*args): # *args can accept any arguments\n",
    "    print(args)\n",
    "    return sum(args)\n",
    "\n",
    "print(super_func(1, 2, 3, 4, 5))"
   ]
  },
  {
   "cell_type": "code",
   "execution_count": 28,
   "metadata": {},
   "outputs": [
    {
     "name": "stdout",
     "output_type": "stream",
     "text": [
      "{'num1': 5, 'num2': 10}\n",
      "15\n"
     ]
    }
   ],
   "source": [
    "def super_func(*args, **kwargs): # *kwargs is key word arguments (dictonary)\n",
    "    print(kwargs)\n",
    "    return sum(args)\n",
    "\n",
    "print(super_func(1, 2, 3, 4, 5, num1=5, num2=10))"
   ]
  },
  {
   "cell_type": "code",
   "execution_count": 32,
   "metadata": {},
   "outputs": [
    {
     "name": "stdout",
     "output_type": "stream",
     "text": [
      "(1, 2, 3, 4, 5)\n",
      "{'num1': 5, 'num2': 10}\n",
      "30\n"
     ]
    }
   ],
   "source": [
    "def super_func(*args, **kwargs): # *kwargs is key word arguments (dictonary)\n",
    "    print(args)\n",
    "    print(kwargs)\n",
    "\n",
    "    total = 0\n",
    "    for items in kwargs.values(): # *kwargs is key word arguments (dictonary)\n",
    "        total += items\n",
    "    return sum(args) + total\n",
    "\n",
    "print(super_func(1, 2, 3, 4, 5, num1=5, num2=10))"
   ]
  },
  {
   "cell_type": "markdown",
   "metadata": {},
   "source": [
    "# 88. Exercise: Functions"
   ]
  },
  {
   "cell_type": "code",
   "execution_count": 34,
   "metadata": {},
   "outputs": [
    {
     "name": "stdout",
     "output_type": "stream",
     "text": [
      "10\n"
     ]
    }
   ],
   "source": [
    "# Find highest even in the list //// it's 10\n",
    "list = [1, 2, 10, 3, 4, 5, 6, 7, 8]\n",
    "\n",
    "def highest_even(li):\n",
    "    even = []\n",
    "    for i in li:\n",
    "        if i % 2 == 0:\n",
    "            even.append(i)\n",
    "    return max(even)\n",
    "\n",
    "print(highest_even(list))"
   ]
  },
  {
   "cell_type": "markdown",
   "metadata": {},
   "source": [
    "# 89. Walrus Operator"
   ]
  },
  {
   "cell_type": "code",
   "execution_count": 37,
   "metadata": {},
   "outputs": [
    {
     "name": "stdout",
     "output_type": "stream",
     "text": [
      "too long 12 elements\n",
      "12\n",
      "11\n",
      "10\n",
      "9\n",
      "8\n",
      "7\n",
      "6\n",
      "5\n",
      "4\n",
      "3\n",
      "2\n"
     ]
    }
   ],
   "source": [
    "a = 'helllllooooo'\n",
    "\n",
    "if (n := len(a)) > 10: # use := to create new variable in expression, it's 'n' in this time\n",
    "    print(f'too long {n} elements')\n",
    "\n",
    "while (n := len(a)) > 1:\n",
    "    print(n)\n",
    "    a = a[:-1]"
   ]
  },
  {
   "cell_type": "markdown",
   "metadata": {},
   "source": [
    "# 91. Scope Rules\n",
    "1. start with local\n",
    "2. Parent local?\n",
    "3. Global\n",
    "4. built in python function"
   ]
  }
 ],
 "metadata": {
  "interpreter": {
   "hash": "2664c4f0d1a8eabb1f6d1de34857e7c054ec1b37f0b8826c1eeda77bda4b9b3a"
  },
  "kernelspec": {
   "display_name": "Python 3.10.2 ('.venv': venv)",
   "language": "python",
   "name": "python3"
  },
  "language_info": {
   "codemirror_mode": {
    "name": "ipython",
    "version": 3
   },
   "file_extension": ".py",
   "mimetype": "text/x-python",
   "name": "python",
   "nbconvert_exporter": "python",
   "pygments_lexer": "ipython3",
   "version": "3.10.2"
  },
  "orig_nbformat": 4
 },
 "nbformat": 4,
 "nbformat_minor": 2
}

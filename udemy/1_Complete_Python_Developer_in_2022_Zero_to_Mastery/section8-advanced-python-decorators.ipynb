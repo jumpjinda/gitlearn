{
 "cells": [
  {
   "cell_type": "markdown",
   "metadata": {},
   "source": [
    "# <font color=\"yellow\">\n",
    "##### 151.Decorators\n",
    "function in python is first class citizens, it can pass any to parameters even function"
   ]
  },
  {
   "cell_type": "code",
   "execution_count": null,
   "metadata": {},
   "outputs": [
    {
     "name": "stdout",
     "output_type": "stream",
     "text": [
      "hellooooooooooooooo\n",
      "None\n"
     ]
    }
   ],
   "source": [
    "def hello():\n",
    "    print('hellooooooooooooooo')\n",
    "\n",
    "greet = hello\n",
    "del hello\n",
    "\n",
    "# greet still pointing to hello function in memory, that del hello it's just deleted function name\n",
    "print(greet())"
   ]
  },
  {
   "cell_type": "code",
   "execution_count": null,
   "metadata": {},
   "outputs": [
    {
     "name": "stdout",
     "output_type": "stream",
     "text": [
      "still here!\n",
      "None\n"
     ]
    }
   ],
   "source": [
    "def hello(func):\n",
    "    func()\n",
    "\n",
    "def greet():\n",
    "    print('still here!')\n",
    "\n",
    "a = hello(greet)\n",
    "print(a)"
   ]
  },
  {
   "cell_type": "markdown",
   "metadata": {},
   "source": [
    "# <font color=\"yellow\">\n",
    "##### 152. Higher Order Functions (HOC)\n",
    "- function accept function pass into parameters\n",
    "- can return function"
   ]
  },
  {
   "cell_type": "code",
   "execution_count": null,
   "metadata": {},
   "outputs": [],
   "source": [
    "def greet(func):\n",
    "    func()\n",
    "\n",
    "def greet2():\n",
    "    def func():\n",
    "        return 5\n",
    "    return func"
   ]
  },
  {
   "cell_type": "markdown",
   "metadata": {},
   "source": [
    "###### <font color=\"yellow\">\n",
    "##### 153. Decorators 2\n",
    "- Is supercharges our function.\n",
    "- add functionality to another function\n",
    "- by wraping function into decorator function"
   ]
  },
  {
   "cell_type": "code",
   "execution_count": null,
   "metadata": {},
   "outputs": [
    {
     "name": "stdout",
     "output_type": "stream",
     "text": [
      "Hello\n",
      "**********\n",
      "see ya later\n",
      "**********\n"
     ]
    }
   ],
   "source": [
    "def my_decorator(func):\n",
    "    def wrap_func():\n",
    "        func()\n",
    "        print('**********')\n",
    "    return wrap_func\n",
    "\n",
    "@my_decorator\n",
    "def hello():\n",
    "    print(\"Hello\")\n",
    "\n",
    "@my_decorator\n",
    "def bye():\n",
    "    print('see ya later')\n",
    "\n",
    "hello()\n",
    "bye()"
   ]
  },
  {
   "cell_type": "markdown",
   "metadata": {},
   "source": [
    "###### <font color=\"yellow\">\n",
    "##### 154. Decorators 3"
   ]
  },
  {
   "cell_type": "code",
   "execution_count": null,
   "metadata": {},
   "outputs": [
    {
     "name": "stdout",
     "output_type": "stream",
     "text": [
      "Hi Jump you are 32 years old\n",
      "**********\n",
      "Hi (your name) you are (your age) years old\n",
      "**********\n"
     ]
    }
   ],
   "source": [
    "# Decorator Pattern\n",
    "def my_decorator(func):\n",
    "    def wrap_func(*args, **kwargs):\n",
    "        func(*args, **kwargs)\n",
    "        print('**********')\n",
    "    return wrap_func\n",
    "\n",
    "@my_decorator\n",
    "def hello(name='(your name)', age='(your age)'):\n",
    "    print(f'Hi {name} you are {age} years old')\n",
    "\n",
    "hello('Jump', 32)\n",
    "hello()"
   ]
  },
  {
   "cell_type": "markdown",
   "metadata": {},
   "source": [
    "###### <font color=\"yellow\">\n",
    "##### 155. Why Do We Need Decorators?"
   ]
  },
  {
   "cell_type": "code",
   "execution_count": null,
   "metadata": {},
   "outputs": [
    {
     "name": "stdout",
     "output_type": "stream",
     "text": [
      "This function took 0.00500035285949707 s\n",
      "[1, 2, 3, 4, 5]\n",
      "This function took 0.0 s\n"
     ]
    }
   ],
   "source": [
    "from time import time\n",
    "\n",
    "def performance(fn):\n",
    "    def wrapper(*args, **kwargs):\n",
    "        t1 = time()\n",
    "        result = fn(*args, **kwargs)\n",
    "        t2 = time()\n",
    "        print(f'This function took {t2 - t1} s')\n",
    "        return result\n",
    "    return wrapper\n",
    "\n",
    "@performance\n",
    "def long_time(number=10, multiply=2):\n",
    "    for i in range(number):\n",
    "        i * multiply\n",
    "    \n",
    "long_time(100000, 10)\n",
    "\n"
   ]
  },
  {
   "cell_type": "code",
   "execution_count": null,
   "metadata": {},
   "outputs": [
    {
     "name": "stdout",
     "output_type": "stream",
     "text": [
      "[2, 4, 6, 8, 10]\n",
      "This function took 0.001310110092163086 s\n",
      "[5, 10, 15, 20, 25, 30, 35, 40, 45, 50, 55, 60, 65, 70, 75, 80, 85, 90, 95, 100, 105, 110, 115, 120, 125, 130, 135, 140, 145, 150, 155, 160, 165, 170, 175, 180, 185, 190, 195, 200, 205, 210, 215, 220, 225, 230, 235, 240, 245, 250, 255, 260, 265, 270, 275, 280, 285, 290, 295, 300, 305, 310, 315, 320, 325, 330, 335, 340, 345, 350, 355, 360, 365, 370, 375, 380, 385, 390, 395, 400, 405, 410, 415, 420, 425, 430, 435, 440, 445, 450, 455, 460, 465, 470, 475, 480, 485, 490, 495]\n",
      "This function took 0.0 s\n"
     ]
    }
   ],
   "source": [
    "@performance\n",
    "def multiply_list(multiply, list):\n",
    "    new_list = []\n",
    "    for i in list:\n",
    "        i = i * multiply\n",
    "        new_list.append(i)\n",
    "    print(new_list)\n",
    "\n",
    "mylist = [1, 2, 3, 4, 5]\n",
    "\n",
    "multiply_list(2, mylist)\n",
    "multiply_list(5, range(1, 100))"
   ]
  },
  {
   "cell_type": "markdown",
   "metadata": {},
   "source": [
    "###### <font color=\"yellow\">\n",
    "##### 156. Exercise: @authenticated\n",
    "Create an @authenticated decorator that only allows the function to run is user* has 'valid' set to True:"
   ]
  },
  {
   "cell_type": "code",
   "execution_count": null,
   "metadata": {},
   "outputs": [
    {
     "name": "stdout",
     "output_type": "stream",
     "text": [
      "message has been sent\n",
      "Not authenticated\n"
     ]
    }
   ],
   "source": [
    "user1 = {\n",
    "  'name': 'Sorna',\n",
    "  'valid': True\n",
    "}\n",
    "\n",
    "user2 = {\n",
    "  'name': 'Jump',\n",
    "  'valid': False\n",
    "}\n",
    "\n",
    "def authenticated(fn): # write code below here\n",
    "    def wrap_func(*args, **kwargs):\n",
    "      if args[0]['valid'] == True: # arg[0] is first item in dictionary and has 2 keys are 'name' and 'valid'\n",
    "        return fn(*args, **kwargs)\n",
    "      else:\n",
    "        print('Not authenticated')\n",
    "    return wrap_func\n",
    "\n",
    "@authenticated\n",
    "def message_friends(user):\n",
    "    print('message has been sent')\n",
    "\n",
    "message_friends(user1)\n",
    "message_friends(user2)"
   ]
  }
 ],
 "metadata": {
  "language_info": {
   "name": "python"
  },
  "orig_nbformat": 4
 },
 "nbformat": 4,
 "nbformat_minor": 2
}

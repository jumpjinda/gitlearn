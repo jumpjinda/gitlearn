{
 "cells": [
  {
   "cell_type": "markdown",
   "metadata": {},
   "source": [
    "##### <font color='yellow'>\n",
    "##### 139. Pure Functions (make you less bug code)\n",
    "Rule:\n",
    "1. Given the same input, it will always return the same output.\n",
    "2. Function should not produce side effects."
   ]
  },
  {
   "cell_type": "code",
   "execution_count": 11,
   "metadata": {},
   "outputs": [
    {
     "name": "stdout",
     "output_type": "stream",
     "text": [
      "[2, 4, 6, 8, 10]\n"
     ]
    }
   ],
   "source": [
    "def multiply_by2(li):\n",
    "    new_list = []\n",
    "    for item in li:\n",
    "        new_list.append(item * 2)\n",
    "    return new_list\n",
    "\n",
    "print(multiply_by2([1, 2, 3, 4, 5]))"
   ]
  },
  {
   "cell_type": "markdown",
   "metadata": {},
   "source": [
    "##### <font color='yellow'>\n",
    "##### 140. map()\n",
    "- map(function, *iterables) ---> map object\n",
    "- no side effect"
   ]
  },
  {
   "cell_type": "code",
   "execution_count": 14,
   "metadata": {},
   "outputs": [
    {
     "name": "stdout",
     "output_type": "stream",
     "text": [
      "<map object at 0x000001E5E5F91D50>\n",
      "[2, 4, 6]\n",
      "[1, 2, 3]\n"
     ]
    }
   ],
   "source": [
    "mylist = [1, 2, 3]\n",
    "\n",
    "def multiply_by2(item):\n",
    "    return item * 2\n",
    "\n",
    "# map() call function and loop through all the items in the iterable and return for us a new map object.\n",
    "# and we convert to the list\n",
    "print(map(multiply_by2, mylist))\n",
    "print(list(map(multiply_by2, mylist)))\n",
    "print(mylist) # original list does not change"
   ]
  },
  {
   "cell_type": "markdown",
   "metadata": {},
   "source": [
    "##### <font color='yellow'>\n",
    "##### 141. filter()\n",
    "- filter(function or None, iterable) ---> filter object"
   ]
  },
  {
   "cell_type": "code",
   "execution_count": 18,
   "metadata": {},
   "outputs": [
    {
     "name": "stdout",
     "output_type": "stream",
     "text": [
      "<filter object at 0x000001E5E5F911B0>\n",
      "[1, 3]\n",
      "[1, 2, 3]\n"
     ]
    }
   ],
   "source": [
    "mylist = [1, 2, 3]\n",
    "\n",
    "def only_odd(item):\n",
    "    return item % 2 != 0 # if this statement is True, filter() will add this item into filter object\n",
    "\n",
    "print(filter(only_odd, mylist))\n",
    "print(list(filter(only_odd, mylist)))\n",
    "print(mylist) # original list does not change"
   ]
  },
  {
   "cell_type": "markdown",
   "metadata": {},
   "source": [
    "##### <font color='yellow'>\n",
    "##### 142. zip()\n",
    "- Put all iterables together"
   ]
  },
  {
   "cell_type": "code",
   "execution_count": 26,
   "metadata": {},
   "outputs": [
    {
     "name": "stdout",
     "output_type": "stream",
     "text": [
      "<zip object at 0x000001E5E7C846C0>\n",
      "[(1, 10, 'a'), (2, 20, 'b'), (3, 30, 'c')]\n"
     ]
    }
   ],
   "source": [
    "mylist = [1, 2, 3]\n",
    "mylist2 = [10, 20, 30, 40]\n",
    "mylist3 = ['a', 'b', 'c', 'd', 'e']\n",
    "\n",
    "print(zip(mylist, mylist2, mylist3))\n",
    "print(list(zip(mylist, mylist2, mylist3)))"
   ]
  },
  {
   "cell_type": "markdown",
   "metadata": {},
   "source": [
    "##### <font color='yellow'>\n",
    "##### 143. reduce()\n",
    "- Main concept is reduce iterable thing to 1 value, by doing something with function we called"
   ]
  },
  {
   "cell_type": "code",
   "execution_count": 29,
   "metadata": {},
   "outputs": [
    {
     "name": "stdout",
     "output_type": "stream",
     "text": [
      "0 1\n",
      "1 2\n",
      "3 3\n",
      "6\n",
      "\n",
      "\n",
      "10 1\n",
      "11 2\n",
      "13 3\n",
      "16\n"
     ]
    }
   ],
   "source": [
    "from functools import reduce\n",
    "\n",
    "mylist = [1, 2, 3]\n",
    "\n",
    "def accumulator(acc, item):\n",
    "    print(acc, item)\n",
    "    return acc + item\n",
    "\n",
    "\n",
    "print(reduce(accumulator, mylist, 0))\n",
    "print(\"\\n\")\n",
    "print(reduce(accumulator, mylist, 10))"
   ]
  },
  {
   "cell_type": "markdown",
   "metadata": {},
   "source": [
    "##### <font color='yellow'>\n",
    "##### 144. Exercises: map, filter, zip, reduce\n",
    "1. Capitalize all of the pet names and print the list"
   ]
  },
  {
   "cell_type": "code",
   "execution_count": 48,
   "metadata": {},
   "outputs": [
    {
     "name": "stdout",
     "output_type": "stream",
     "text": [
      "['SISI', 'BIBI', 'TITI', 'CARLA']\n",
      "['SISI', 'BIBI', 'TITI', 'CARLA']\n"
     ]
    }
   ],
   "source": [
    "my_pets = ['sisi', 'bibi', 'titi', 'carla']\n",
    "\n",
    "def upper_capitalize(my_pet):\n",
    "    return my_pet.upper()\n",
    "\n",
    "print(list(map(upper_capitalize, my_pets)))\n",
    "print(list(map(lambda x: x.upper(), my_pets)))"
   ]
  },
  {
   "cell_type": "markdown",
   "metadata": {},
   "source": [
    "##### <font color='yellow'>\n",
    "2. Zip the 2 lists into a list of tuples, but sort the numbers from lowest to highest."
   ]
  },
  {
   "cell_type": "code",
   "execution_count": 49,
   "metadata": {},
   "outputs": [
    {
     "name": "stdout",
     "output_type": "stream",
     "text": [
      "[('a', 1), ('b', 2), ('c', 3), ('d', 4), ('e', 5)]\n"
     ]
    }
   ],
   "source": [
    "my_strings = ['a', 'b', 'c', 'd', 'e']\n",
    "my_numbers = [5,4,3,2,1]\n",
    "\n",
    "my_numbers.sort()\n",
    "print(list(zip(my_strings, my_numbers)))"
   ]
  },
  {
   "cell_type": "markdown",
   "metadata": {},
   "source": [
    "##### <font color='yellow'>\n",
    "3. Filter the scores that pass over 50%"
   ]
  },
  {
   "cell_type": "code",
   "execution_count": 50,
   "metadata": {},
   "outputs": [
    {
     "name": "stdout",
     "output_type": "stream",
     "text": [
      "[73, 65, 76, 100, 88]\n",
      "[73, 65, 76, 100, 88]\n"
     ]
    }
   ],
   "source": [
    "scores = [73, 20, 65, 19, 76, 100, 88]\n",
    "\n",
    "def pass_score(score):\n",
    "    return score > 50\n",
    "\n",
    "print(list(filter(pass_score, scores)))\n",
    "print(list(filter(lambda x: x > 50, scores)))"
   ]
  },
  {
   "cell_type": "markdown",
   "metadata": {},
   "source": [
    "# <font color='yellow'>\n",
    "4. Combine all of the numbers that are in a list on this file using reduce (my_numbers and scores). What is the total?"
   ]
  },
  {
   "cell_type": "code",
   "execution_count": 51,
   "metadata": {},
   "outputs": [
    {
     "name": "stdout",
     "output_type": "stream",
     "text": [
      "1 2\n",
      "3 3\n",
      "6 4\n",
      "10 5\n",
      "15 73\n",
      "88 20\n",
      "108 65\n",
      "173 19\n",
      "192 76\n",
      "268 100\n",
      "368 88\n",
      "456\n",
      "456\n"
     ]
    }
   ],
   "source": [
    "new_list = my_numbers + scores\n",
    "\n",
    "def accumulator(acc, item):\n",
    "    print(acc, item)\n",
    "    return acc + item\n",
    "\n",
    "\n",
    "print(reduce(accumulator, new_list))\n",
    "print(reduce(lambda x, y: x + y, new_list))"
   ]
  },
  {
   "cell_type": "markdown",
   "metadata": {},
   "source": [
    "# <font color='yellow'>\n",
    "##### 145. Lambda Expressions\n",
    "- lambda param: action, arguments\n",
    "- Is anonymous function (no name and one time function)"
   ]
  },
  {
   "cell_type": "code",
   "execution_count": 66,
   "metadata": {},
   "outputs": [
    {
     "name": "stdout",
     "output_type": "stream",
     "text": [
      "<map object at 0x000001E5E5FAA380>\n",
      "[2, 4, 6]\n",
      "[1, 2, 3]\n"
     ]
    }
   ],
   "source": [
    "mylist = [1, 2, 3]\n",
    "\n",
    "total = map(lambda item: item * 2, mylist) # map (loop) each item in mylist, implement item *2 and return object\n",
    "print(total)\n",
    "print(list(total))\n",
    "print(mylist) # original list still the same"
   ]
  },
  {
   "cell_type": "code",
   "execution_count": 67,
   "metadata": {},
   "outputs": [
    {
     "name": "stdout",
     "output_type": "stream",
     "text": [
      "[1, 3]\n"
     ]
    }
   ],
   "source": [
    "total = filter(lambda item: item % 2 != 0, mylist)\n",
    "\n",
    "print(list(total))"
   ]
  },
  {
   "cell_type": "code",
   "execution_count": 69,
   "metadata": {},
   "outputs": [
    {
     "name": "stdout",
     "output_type": "stream",
     "text": [
      "<class 'int'>\n",
      "6\n"
     ]
    }
   ],
   "source": [
    "total =  reduce(lambda acc, item: acc + item, mylist)\n",
    "\n",
    "print(type(total))\n",
    "print(total)"
   ]
  },
  {
   "cell_type": "markdown",
   "metadata": {},
   "source": [
    "# <font color='yellow'>\n",
    "##### 146. Exercise: Lambda Expressions\n",
    "- use 1 line lambda function to squre (**) each item in my list"
   ]
  },
  {
   "cell_type": "code",
   "execution_count": 72,
   "metadata": {},
   "outputs": [
    {
     "name": "stdout",
     "output_type": "stream",
     "text": [
      "[25, 16, 9]\n"
     ]
    }
   ],
   "source": [
    "mylist = [5, 4, 3]\n",
    "\n",
    "newlist = list(map(lambda item: item ** 2, mylist))\n",
    "print(newlist)"
   ]
  },
  {
   "cell_type": "markdown",
   "metadata": {},
   "source": [
    "# <font color='yellow'>\n",
    "- List sorting, base on 2nd value in tuples"
   ]
  },
  {
   "cell_type": "code",
   "execution_count": 73,
   "metadata": {},
   "outputs": [
    {
     "name": "stdout",
     "output_type": "stream",
     "text": [
      "[(10, -1), (0, 2), (4, 3), (9, 9)]\n"
     ]
    }
   ],
   "source": [
    "a = [(0,2), (4, 3), (10, -1), (9, 9)]\n",
    "\n",
    "a.sort(key=lambda x: x[1])\n",
    "print(a)"
   ]
  },
  {
   "cell_type": "markdown",
   "metadata": {},
   "source": [
    "# <font color=\"yellow\">\n",
    "##### 147. List Comprehensions"
   ]
  },
  {
   "cell_type": "code",
   "execution_count": 81,
   "metadata": {},
   "outputs": [
    {
     "name": "stdout",
     "output_type": "stream",
     "text": [
      "['h', 'e', 'l', 'l', 'o']\n",
      "[0, 1, 2, 3, 4, 5, 6, 7, 8, 9]\n",
      "[0, 1, 4, 9, 16, 25, 36, 49, 64, 81]\n",
      "[0, 4, 16, 36, 64]\n"
     ]
    }
   ],
   "source": [
    "mylist = [char for char in 'hello']\n",
    "mylist2 = [number for number in range(0, 10)]\n",
    "mylist3 = [num ** 2 for num in range(0, 10)]\n",
    "mylist4 = [num ** 2 for num in range(0, 10) if num % 2 == 0]\n",
    "\n",
    "print(mylist)\n",
    "print(mylist2)\n",
    "print(mylist3)\n",
    "print(mylist4)"
   ]
  },
  {
   "cell_type": "markdown",
   "metadata": {},
   "source": [
    "# <font color=\"yellow\">\n",
    "##### 148. Set and Dictionary Comprehension\n",
    "- Set Comprehension"
   ]
  },
  {
   "cell_type": "code",
   "execution_count": 82,
   "metadata": {},
   "outputs": [
    {
     "name": "stdout",
     "output_type": "stream",
     "text": [
      "{'o', 'e', 'l', 'h'}\n",
      "{0, 1, 2, 3, 4, 5, 6, 7, 8, 9}\n",
      "{0, 1, 64, 4, 36, 9, 16, 49, 81, 25}\n",
      "{0, 64, 4, 36, 16}\n"
     ]
    }
   ],
   "source": [
    "mylist = {char for char in 'hello'}\n",
    "mylist2 = {number for number in range(0, 10)}\n",
    "mylist3 = {num ** 2 for num in range(0, 10)}\n",
    "mylist4 = {num ** 2 for num in range(0, 10) if num % 2 == 0}\n",
    "\n",
    "print(mylist)\n",
    "print(mylist2)\n",
    "print(mylist3)\n",
    "print(mylist4)"
   ]
  },
  {
   "cell_type": "markdown",
   "metadata": {},
   "source": [
    "# <font color=\"yellow\">\n",
    "- Dictionary Comprehension"
   ]
  },
  {
   "cell_type": "code",
   "execution_count": 89,
   "metadata": {},
   "outputs": [
    {
     "name": "stdout",
     "output_type": "stream",
     "text": [
      "{'a': 1, 'b': 4, 'c': 9, 'd': 16, 'e': 25}\n",
      "{'b': 4, 'd': 16}\n",
      "{1: 1, 2: 4, 3: 9, 4: 16, 5: 25}\n"
     ]
    }
   ],
   "source": [
    "simple_dict = {\n",
    "    'a': 1,\n",
    "    'b': 2,\n",
    "    'c': 3,\n",
    "    'd': 4,\n",
    "    'e': 5\n",
    "}\n",
    "\n",
    "mydict = {k: v ** 2 for k, v in simple_dict.items()}\n",
    "mydict2 = {k: v ** 2 for k, v in simple_dict.items() if v % 2 == 0}\n",
    "\n",
    "print(mydict)\n",
    "print(mydict2)\n",
    "\n",
    "mydict3 = {num: num ** 2 for num in [1, 2, 3, 4, 5]}\n",
    "\n",
    "print(mydict3)"
   ]
  },
  {
   "cell_type": "markdown",
   "metadata": {},
   "source": [
    "# <font color=\"yellow\">\n",
    "149. Exercise: Comprehensions\n",
    "- use provided list generate answer by Comprehension"
   ]
  },
  {
   "cell_type": "code",
   "execution_count": null,
   "metadata": {},
   "outputs": [],
   "source": [
    "# some_list = ['a', 'b', 'c', 'b', 'd', 'm', 'n', 'n']\n",
    "\n",
    "# duplicates = []\n",
    "# for value in some_list:\n",
    "#     if some_list.count(value) > 1:\n",
    "#         if value not in duplicates:\n",
    "#             duplicates.append(value)\n",
    "\n",
    "# print(duplicates)"
   ]
  },
  {
   "cell_type": "code",
   "execution_count": 91,
   "metadata": {},
   "outputs": [
    {
     "name": "stdout",
     "output_type": "stream",
     "text": [
      "['b', 'n']\n"
     ]
    }
   ],
   "source": [
    "some_list = ['a', 'b', 'c', 'b', 'd', 'm', 'n', 'n']\n",
    "\n",
    "duplicates = list(set([char for char in some_list if some_list.count(char) > 1]))\n",
    "\n",
    "print(duplicates)"
   ]
  },
  {
   "cell_type": "code",
   "execution_count": null,
   "metadata": {},
   "outputs": [],
   "source": []
  }
 ],
 "metadata": {
  "interpreter": {
   "hash": "2664c4f0d1a8eabb1f6d1de34857e7c054ec1b37f0b8826c1eeda77bda4b9b3a"
  },
  "kernelspec": {
   "display_name": "Python 3.10.2 ('.venv': venv)",
   "language": "python",
   "name": "python3"
  },
  "language_info": {
   "codemirror_mode": {
    "name": "ipython",
    "version": 3
   },
   "file_extension": ".py",
   "mimetype": "text/x-python",
   "name": "python",
   "nbconvert_exporter": "python",
   "pygments_lexer": "ipython3",
   "version": "3.10.2"
  },
  "orig_nbformat": 4
 },
 "nbformat": 4,
 "nbformat_minor": 2
}

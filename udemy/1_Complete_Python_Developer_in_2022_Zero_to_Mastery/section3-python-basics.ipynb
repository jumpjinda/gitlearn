{
 "cells": [
  {
   "cell_type": "markdown",
   "metadata": {},
   "source": [
    "# 21. Math Functions"
   ]
  },
  {
   "cell_type": "code",
   "execution_count": 2,
   "metadata": {},
   "outputs": [
    {
     "name": "stdout",
     "output_type": "stream",
     "text": [
      "<class 'float'>\n",
      "8\n",
      "1\n",
      "2\n",
      "4\n",
      "21\n"
     ]
    }
   ],
   "source": [
    "print(type(2 / 4))\n",
    "print(2 ** 3)\n",
    "print(5 // 4)\n",
    "print(6 % 4)\n",
    "\n",
    "# math function\n",
    "print(round(3.9))\n",
    "print(abs(-21))"
   ]
  },
  {
   "cell_type": "markdown",
   "metadata": {},
   "source": [
    "# 25. Optional: bin() and complex"
   ]
  },
  {
   "cell_type": "code",
   "execution_count": 5,
   "metadata": {},
   "outputs": [
    {
     "name": "stdout",
     "output_type": "stream",
     "text": [
      "0b101\n",
      "5\n"
     ]
    }
   ],
   "source": [
    "# convert to binary format\n",
    "print(bin(5))\n",
    "# conver binary to regular format\n",
    "print(int('0b101', 2))"
   ]
  },
  {
   "cell_type": "markdown",
   "metadata": {},
   "source": [
    "# 33. Formatted strings"
   ]
  },
  {
   "cell_type": "code",
   "execution_count": 7,
   "metadata": {},
   "outputs": [
    {
     "name": "stdout",
     "output_type": "stream",
     "text": [
      "Hi jump. You are 32\n"
     ]
    }
   ],
   "source": [
    "name = \"jump\"\n",
    "age = 32\n",
    "\n",
    "print(f\"Hi {name}. You are {age} years old\") # use f before string"
   ]
  },
  {
   "cell_type": "markdown",
   "metadata": {},
   "source": [
    "# 40. Exercise: Password Checker"
   ]
  },
  {
   "cell_type": "code",
   "execution_count": 8,
   "metadata": {},
   "outputs": [
    {
     "name": "stdout",
     "output_type": "stream",
     "text": [
      "jump, your password ***** is 5 letters long\n"
     ]
    }
   ],
   "source": [
    "username = input(\"What is your username? : \")\n",
    "password = input(\"What is your password? : \")\n",
    "\n",
    "password_length = len(password)\n",
    "hidden_password = \"*\" * password_length\n",
    "\n",
    "print(f\"{username}, your password {hidden_password} is {password_length} letters long\")"
   ]
  },
  {
   "cell_type": "markdown",
   "metadata": {},
   "source": [
    "# 44. List Methods"
   ]
  },
  {
   "cell_type": "code",
   "execution_count": 6,
   "metadata": {},
   "outputs": [
    {
     "name": "stdout",
     "output_type": "stream",
     "text": [
      "original list = [1, 2, 3, 4, 5]\n"
     ]
    }
   ],
   "source": [
    "basket = [1, 2, 3, 4, 5]\n",
    "\n",
    "print(\"original list =\", basket)"
   ]
  },
  {
   "cell_type": "code",
   "execution_count": 7,
   "metadata": {},
   "outputs": [
    {
     "name": "stdout",
     "output_type": "stream",
     "text": [
      "[1, 2, 3, 4, 5, 100]\n"
     ]
    }
   ],
   "source": [
    "basket.append(100)\n",
    "new_list = basket\n",
    "print(new_list)"
   ]
  },
  {
   "cell_type": "code",
   "execution_count": 8,
   "metadata": {},
   "outputs": [
    {
     "name": "stdout",
     "output_type": "stream",
     "text": [
      "[1, 100, 2, 3, 4, 5, 100]\n"
     ]
    }
   ],
   "source": [
    "# insert index, value\n",
    "basket.insert(1, 100)\n",
    "new_list = basket\n",
    "print(new_list)"
   ]
  },
  {
   "cell_type": "code",
   "execution_count": 9,
   "metadata": {},
   "outputs": [
    {
     "name": "stdout",
     "output_type": "stream",
     "text": [
      "[1, 100, 2, 3, 4, 5, 100, 99, 98]\n"
     ]
    }
   ],
   "source": [
    "basket.extend([99, 98])\n",
    "new_list = basket\n",
    "print(new_list)"
   ]
  },
  {
   "cell_type": "code",
   "execution_count": 10,
   "metadata": {},
   "outputs": [
    {
     "name": "stdout",
     "output_type": "stream",
     "text": [
      "[1, 100, 2, 3, 4, 5, 100, 99]\n"
     ]
    }
   ],
   "source": [
    "# pop default argument is remove last value in list, or we can pass index to it\n",
    "basket.pop()\n",
    "print(basket)"
   ]
  },
  {
   "cell_type": "code",
   "execution_count": 11,
   "metadata": {},
   "outputs": [
    {
     "name": "stdout",
     "output_type": "stream",
     "text": [
      "[]\n"
     ]
    }
   ],
   "source": [
    "basket.clear()\n",
    "print(basket)"
   ]
  },
  {
   "cell_type": "markdown",
   "metadata": {},
   "source": [
    "# 45. List Methods 2"
   ]
  },
  {
   "cell_type": "code",
   "execution_count": 23,
   "metadata": {},
   "outputs": [
    {
     "name": "stdout",
     "output_type": "stream",
     "text": [
      "['a', 'b', 'c', 'd', 'e', 'd']\n",
      "3\n",
      "True\n",
      "False\n",
      "2\n",
      "['a', 'b', 'c', 'd', 'd', 'e']\n",
      "['a', 'a', 'b', 'b', 'c', 'd', 'd', 'e']\n",
      "['a', 'b', 'c', 'd', 'e', 'd', 'a', 'b']\n"
     ]
    }
   ],
   "source": [
    "basket = ['a', 'b', 'c', 'd', 'e', 'd']\n",
    "\n",
    "print(basket)\n",
    "print(basket.index('d'))\n",
    "# print(basket.index('d', 0, 3)) start looking at index 0 and stop at index 3, output should be error\n",
    "print('d' in basket)\n",
    "print('x' in basket)\n",
    "print(basket.count('d'))\n",
    "\n",
    "basket.sort()\n",
    "print(basket)\n",
    "\n",
    "basket = ['a', 'b', 'c', 'd', 'e', 'd', 'a', 'b']\n",
    "# sorted create new array\n",
    "print(sorted(basket))\n",
    "# original basket still the same\n",
    "print(basket)"
   ]
  },
  {
   "cell_type": "code",
   "execution_count": 25,
   "metadata": {},
   "outputs": [
    {
     "name": "stdout",
     "output_type": "stream",
     "text": [
      "Hi my name is Jump\n",
      "Hi-my-name-is-Jump\n"
     ]
    }
   ],
   "source": [
    "sentence = \" \"\n",
    "\n",
    "new_sentence = sentence.join(['Hi', 'my', 'name', 'is', 'Jump'])\n",
    "print(new_sentence)\n",
    "\n",
    "sentence = \"-\"\n",
    "new_sentence = sentence.join(['Hi', 'my', 'name', 'is', 'Jump'])\n",
    "print(new_sentence)"
   ]
  },
  {
   "cell_type": "markdown",
   "metadata": {},
   "source": [
    "# 48. List Unpacking"
   ]
  },
  {
   "cell_type": "code",
   "execution_count": 27,
   "metadata": {},
   "outputs": [
    {
     "name": "stdout",
     "output_type": "stream",
     "text": [
      "1\n",
      "2\n",
      "3\n",
      "4 5 6 7 8 9\n",
      "10\n"
     ]
    }
   ],
   "source": [
    "a, b, c, *other, d = [1, 2, 3, 4, 5, 6, 7, 8, 9, 10]\n",
    "\n",
    "print(a)\n",
    "print(b)\n",
    "print(c)\n",
    "print(*other)\n",
    "print(d)"
   ]
  },
  {
   "cell_type": "markdown",
   "metadata": {},
   "source": [
    "# 50. Dictionaries"
   ]
  },
  {
   "cell_type": "code",
   "execution_count": 33,
   "metadata": {},
   "outputs": [
    {
     "name": "stdout",
     "output_type": "stream",
     "text": [
      "[1, 2, 3]\n",
      "2\n",
      "hello\n",
      "h\n",
      "True\n",
      "{'a': [1, 2, 3], 'b': 'hello', 'x': True}\n"
     ]
    }
   ],
   "source": [
    "dictionary = {\n",
    "    'a': [1, 2, 3],\n",
    "    'b': \"hello\",\n",
    "    'x': True\n",
    "}\n",
    "\n",
    "print(dictionary['a'])\n",
    "print(dictionary['a'][1])\n",
    "print(dictionary['b'])\n",
    "print(dictionary['b'][0])\n",
    "print(dictionary['x'])\n",
    "print(dictionary)"
   ]
  },
  {
   "cell_type": "code",
   "execution_count": 44,
   "metadata": {},
   "outputs": [
    {
     "name": "stdout",
     "output_type": "stream",
     "text": [
      "[1, 2, 3]\n",
      "6\n",
      "good bye\n",
      "e\n",
      "False\n"
     ]
    }
   ],
   "source": [
    "my_list = [\n",
    "    {\n",
    "    'a': [1, 2, 3],\n",
    "    'b': \"hello\",\n",
    "    'x': True\n",
    "    },\n",
    "    {\n",
    "    'a': [4, 5, 6],\n",
    "    'b': \"good bye\",\n",
    "    'x': False\n",
    "    }\n",
    "]\n",
    "\n",
    "print(my_list[0]['a'])\n",
    "print(my_list[1]['a'][2])\n",
    "print(my_list[1]['b'])\n",
    "print(my_list[1]['b'][-1])\n",
    "print(my_list[1]['x'])"
   ]
  },
  {
   "cell_type": "markdown",
   "metadata": {},
   "source": [
    "# 53. Dictionary Keys\n",
    "Key has to be immutable, can't be changed like list so that why dictionary key always use string"
   ]
  },
  {
   "cell_type": "markdown",
   "metadata": {},
   "source": [
    "# 54. Dictionary Methods"
   ]
  },
  {
   "cell_type": "code",
   "execution_count": 62,
   "metadata": {},
   "outputs": [
    {
     "name": "stdout",
     "output_type": "stream",
     "text": [
      "{'basket': [1, 2, 3], 'greet': 'hello', 'birthyear': 1989}\n",
      "1989\n",
      "55\n",
      "{'name': 'Jump'}\n",
      "True\n",
      "False\n",
      "True\n",
      "True\n",
      "dict_items([('basket', [1, 2, 3]), ('greet', 'hello'), ('birthyear', 1989)])\n",
      "1989\n",
      "{'basket': [1, 2, 3], 'greet': 'hello'}\n",
      "('greet', 'hello')\n",
      "{'basket': [1, 2, 3]}\n",
      "None\n",
      "{'basket': [1, 2, 3], 'age': 32}\n"
     ]
    }
   ],
   "source": [
    "user = {\n",
    "    'basket': [1, 2, 3],\n",
    "    'greet': \"hello\",\n",
    "    'birthyear': 1989\n",
    "}\n",
    "\n",
    "print(user)\n",
    "print(user.get('birthyear', 55))\n",
    "print(user.get('year', 55)) # grap 'year' from user, if no 'year' use 55\n",
    "\n",
    "user2 = dict(name='Jump')\n",
    "print(user2)\n",
    "\n",
    "print('basket' in user)\n",
    "print('size' in user)\n",
    "print('basket' in user.keys())\n",
    "print(\"hello\" in user.values())\n",
    "print(user.items())\n",
    "print(user.pop('birthyear')) # remove birthyear key also value too and show value in output\n",
    "print(user)\n",
    "print(user.popitem()) # remove last item (mean key and value) in dictionary and show item we remove in output\n",
    "print(user)\n",
    "print(user.update({'age': 32})) # insert new item in dictionary\n",
    "print(user)"
   ]
  },
  {
   "cell_type": "code",
   "execution_count": null,
   "metadata": {},
   "outputs": [],
   "source": []
  }
 ],
 "metadata": {
  "interpreter": {
   "hash": "2664c4f0d1a8eabb1f6d1de34857e7c054ec1b37f0b8826c1eeda77bda4b9b3a"
  },
  "kernelspec": {
   "display_name": "Python 3.10.2 ('.venv': venv)",
   "language": "python",
   "name": "python3"
  },
  "language_info": {
   "codemirror_mode": {
    "name": "ipython",
    "version": 3
   },
   "file_extension": ".py",
   "mimetype": "text/x-python",
   "name": "python",
   "nbconvert_exporter": "python",
   "pygments_lexer": "ipython3",
   "version": "3.10.2"
  },
  "orig_nbformat": 4
 },
 "nbformat": 4,
 "nbformat_minor": 2
}

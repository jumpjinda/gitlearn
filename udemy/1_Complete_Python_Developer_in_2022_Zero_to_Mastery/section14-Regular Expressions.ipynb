{
 "cells": [
  {
   "cell_type": "markdown",
   "metadata": {},
   "source": [
    "# 189. Regular Expressions"
   ]
  },
  {
   "cell_type": "code",
   "execution_count": 12,
   "metadata": {},
   "outputs": [
    {
     "name": "stdout",
     "output_type": "stream",
     "text": [
      "True\n",
      "(7, 11)\n",
      "7\n",
      "11\n",
      "this\n"
     ]
    }
   ],
   "source": [
    "import re\n",
    "\n",
    "string = 'search this inside of this text please!'\n",
    "\n",
    "print('search' in string)\n",
    "\n",
    "a = re.search('this', string)\n",
    "\n",
    "print(a.span()) # where start index and end index of string\n",
    "print(a.start()) # index start\n",
    "print(a.end()) # end index\n",
    "print(a.group())"
   ]
  },
  {
   "cell_type": "code",
   "execution_count": 23,
   "metadata": {},
   "outputs": [
    {
     "name": "stdout",
     "output_type": "stream",
     "text": [
      "search this inside of this text please!\n",
      "['search this inside of this text please!']\n",
      "None\n",
      "<re.Match object; span=(0, 39), match='search this inside of this text please!'>\n"
     ]
    }
   ],
   "source": [
    "import re\n",
    "\n",
    "pattern = re.compile('search this inside of this text please!')\n",
    "string = 'search this inside of this text please! Jump'\n",
    "\n",
    "a = pattern.search(string)\n",
    "b = pattern.findall(string)\n",
    "c = pattern.fullmatch(string)\n",
    "d = pattern.match(string)\n",
    "\n",
    "print(a.group())\n",
    "print(b)\n",
    "print(c)\n",
    "print(d)"
   ]
  },
  {
   "cell_type": "markdown",
   "metadata": {},
   "source": [
    "# 190. Regular expressions 2"
   ]
  },
  {
   "cell_type": "code",
   "execution_count": null,
   "metadata": {},
   "outputs": [],
   "source": []
  }
 ],
 "metadata": {
  "interpreter": {
   "hash": "d4eca621274a12c8b97fbe573ecb05bf92d4666abdbf0268175ecee25e2c4cf8"
  },
  "kernelspec": {
   "display_name": "Python 3.10.2 ('venv': venv)",
   "language": "python",
   "name": "python3"
  },
  "language_info": {
   "codemirror_mode": {
    "name": "ipython",
    "version": 3
   },
   "file_extension": ".py",
   "mimetype": "text/x-python",
   "name": "python",
   "nbconvert_exporter": "python",
   "pygments_lexer": "ipython3",
   "version": "3.10.2"
  },
  "orig_nbformat": 4
 },
 "nbformat": 4,
 "nbformat_minor": 2
}

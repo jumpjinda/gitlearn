{
 "cells": [
  {
   "cell_type": "markdown",
   "metadata": {},
   "source": [
    "# 189. Regular Expressions"
   ]
  },
  {
   "cell_type": "code",
   "execution_count": 12,
   "metadata": {},
   "outputs": [
    {
     "name": "stdout",
     "output_type": "stream",
     "text": [
      "True\n",
      "(7, 11)\n",
      "7\n",
      "11\n",
      "this\n"
     ]
    }
   ],
   "source": [
    "import re\n",
    "\n",
    "string = 'search this inside of this text please!'\n",
    "\n",
    "print('search' in string)\n",
    "\n",
    "a = re.search('this', string)\n",
    "\n",
    "print(a.span()) # where start index and end index of string\n",
    "print(a.start()) # index start\n",
    "print(a.end()) # end index\n",
    "print(a.group())"
   ]
  },
  {
   "cell_type": "code",
   "execution_count": 23,
   "metadata": {},
   "outputs": [
    {
     "name": "stdout",
     "output_type": "stream",
     "text": [
      "search this inside of this text please!\n",
      "['search this inside of this text please!']\n",
      "None\n",
      "<re.Match object; span=(0, 39), match='search this inside of this text please!'>\n"
     ]
    }
   ],
   "source": [
    "import re\n",
    "\n",
    "pattern = re.compile('search this inside of this text please!')\n",
    "string = 'search this inside of this text please! Jump'\n",
    "\n",
    "a = pattern.search(string)\n",
    "b = pattern.findall(string)\n",
    "c = pattern.fullmatch(string)\n",
    "d = pattern.match(string)\n",
    "\n",
    "print(a.group())\n",
    "print(b)\n",
    "print(c)\n",
    "print(d)"
   ]
  },
  {
   "cell_type": "markdown",
   "metadata": {},
   "source": [
    "# 190. Regular expressions 2\n",
    "- https://regex101.com/"
   ]
  },
  {
   "cell_type": "code",
   "execution_count": 10,
   "metadata": {},
   "outputs": [
    {
     "name": "stdout",
     "output_type": "stream",
     "text": [
      "sea\n",
      "s\n",
      "a\n"
     ]
    }
   ],
   "source": [
    "import re\n",
    "\n",
    "pattern = re.compile(r'([a-zA-Z]).([a])') # 'r' is raw string, ignore everything python interpreter\n",
    "                     # ([a-zA-Z]).([a]) = find first char can be a-z or A-Z \n",
    "                     #  with '.' is 1 char can be anything \n",
    "                     # and end with 'a'\n",
    "string = 'search this inside of this text please! Jump'\n",
    "\n",
    "a = pattern.search(string)\n",
    "b = pattern.findall(string)\n",
    "c = pattern.fullmatch(string)\n",
    "d = pattern.match(string)\n",
    "\n",
    "print(a.group())\n",
    "print(a.group(1))\n",
    "print(a.group(2))"
   ]
  },
  {
   "cell_type": "markdown",
   "metadata": {},
   "source": [
    "# 191. Exercises: Interactive RegEx\n",
    "- https://regexone.com/ <--- test\n",
    "- https://devahoy.com/blog/2016/11/regular-expressions-101/ <--- learn in Thai language"
   ]
  },
  {
   "cell_type": "markdown",
   "metadata": {},
   "source": [
    "# 192. Regular expressions 3\n",
    "- https://emailregex.com/"
   ]
  },
  {
   "cell_type": "code",
   "execution_count": 12,
   "metadata": {},
   "outputs": [
    {
     "name": "stdout",
     "output_type": "stream",
     "text": [
      "<re.Match object; span=(0, 7), match='b@b.com'>\n",
      "None\n"
     ]
    }
   ],
   "source": [
    "# r\"(^[a-zA-Z0-9_.+-]+@[a-zA-Z0-9-]+\\.[a-zA-Z0-9-.]+$)\"\n",
    "import re\n",
    "\n",
    "pattern = re.compile(r\"(^[a-zA-Z0-9_.+-]+@[a-zA-Z0-9-]+\\.[a-zA-Z0-9-.]+$)\")\n",
    "string = 'b@b.com'\n",
    "string2 = 'Jumpjinda'\n",
    "\n",
    "a = pattern.search(string)\n",
    "b = pattern.search(string2)\n",
    "print(a)\n",
    "print(b)"
   ]
  },
  {
   "cell_type": "markdown",
   "metadata": {},
   "source": [
    "# 193. Exercise: Password Validation\n",
    "- At least 8 characters long\n",
    "- Include number 0-9\n",
    "- Contain any sort letters, numbers, and $%#@"
   ]
  },
  {
   "cell_type": "code",
   "execution_count": 34,
   "metadata": {},
   "outputs": [
    {
     "name": "stdout",
     "output_type": "stream",
     "text": [
      "<re.Match object; span=(0, 12), match='ggggggggg$99'>\n"
     ]
    }
   ],
   "source": [
    "# 1. use https://regex101.com/ find code with provided symbols\n",
    "import re\n",
    "\n",
    "pattern = re.compile(r\"[a-zA-Z0-9$%#@]{7,}\\d\")\n",
    "# password = input('Input your password: ')\n",
    "password = 'ggggggggg$99'\n",
    "check = pattern.fullmatch(password)\n",
    "print(check)\n",
    "\n",
    "# \"^[\\w$%#@]{7,}\\d$\" end with number"
   ]
  },
  {
   "cell_type": "code",
   "execution_count": null,
   "metadata": {},
   "outputs": [],
   "source": []
  }
 ],
 "metadata": {
  "interpreter": {
   "hash": "d4eca621274a12c8b97fbe573ecb05bf92d4666abdbf0268175ecee25e2c4cf8"
  },
  "kernelspec": {
   "display_name": "Python 3.10.2 ('venv': venv)",
   "language": "python",
   "name": "python3"
  },
  "language_info": {
   "codemirror_mode": {
    "name": "ipython",
    "version": 3
   },
   "file_extension": ".py",
   "mimetype": "text/x-python",
   "name": "python",
   "nbconvert_exporter": "python",
   "pygments_lexer": "ipython3",
   "version": "3.10.2"
  },
  "orig_nbformat": 4
 },
 "nbformat": 4,
 "nbformat_minor": 2
}
